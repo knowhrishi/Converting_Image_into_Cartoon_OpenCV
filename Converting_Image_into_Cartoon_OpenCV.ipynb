{
  "nbformat": 4,
  "nbformat_minor": 0,
  "metadata": {
    "colab": {
      "name": "Converting Image into Cartoon OpenCV.ipynb",
      "provenance": [],
      "authorship_tag": "ABX9TyNvUGygcyYXJ5NwunrRVTj9",
      "include_colab_link": true
    },
    "kernelspec": {
      "name": "python3",
      "display_name": "Python 3"
    }
  },
  "cells": [
    {
      "cell_type": "markdown",
      "metadata": {
        "id": "view-in-github",
        "colab_type": "text"
      },
      "source": [
        "<a href=\"https://colab.research.google.com/github/knowhrishi/Converting_Image_into_Cartoon_OpenCV/blob/master/Converting_Image_into_Cartoon_OpenCV.ipynb\" target=\"_parent\"><img src=\"https://colab.research.google.com/assets/colab-badge.svg\" alt=\"Open In Colab\"/></a>"
      ]
    },
    {
      "cell_type": "code",
      "metadata": {
        "id": "7oJME3F_NrJO",
        "colab_type": "code",
        "colab": {}
      },
      "source": [
        "import cv2\n",
        "import os\n",
        "from google.colab.patches import cv2_imshow"
      ],
      "execution_count": 2,
      "outputs": []
    },
    {
      "cell_type": "code",
      "metadata": {
        "id": "sVrpkpLQQm9r",
        "colab_type": "code",
        "colab": {}
      },
      "source": [
        "class Cartoonizer: \n",
        "\t\"\"\"Cartoonizer effect \n",
        "\t\tA class that applies a cartoon effect to an image. \n",
        "\t\tThe class uses a bilateral filter and adaptive thresholding to create \n",
        "\t\ta cartoon effect. \n",
        "\t\"\"\"\n",
        "\tdef __init__(self): \n",
        "\t\tpass\n",
        "\n",
        "\tdef render(self, img_rgb): \n",
        "\t\timg_rgb = cv2.imread(img_rgb) \n",
        "\t\timg_rgb = cv2.resize(img_rgb, (1366,768)) \n",
        "\t\tnumDownSamples = 2\t # number of downscaling steps \n",
        "\t\tnumBilateralFilters = 50 # number of bilateral filtering steps \n",
        "\n",
        "\t\t# -- STEP 1 -- \n",
        "\n",
        "\t\t# downsample image using Gaussian pyramid \n",
        "\t\timg_color = img_rgb \n",
        "\t\tfor _ in range(numDownSamples): \n",
        "\t\t\timg_color = cv2.pyrDown(img_color) \n",
        "\n",
        "\t\t#cv2.imshow(\"downcolor\",img_color) \n",
        "\t\t#cv2.waitKey(0) \n",
        "\t\t# repeatedly apply small bilateral filter instead of applying \n",
        "\t\t# one large filter \n",
        "\t\tfor _ in range(numBilateralFilters): \n",
        "\t\t\timg_color = cv2.bilateralFilter(img_color, 15, 30, 20) \n",
        "\n",
        "\t\t#cv2.imshow(\"bilateral filter\",img_color) \n",
        "\t\t#cv2.waitKey(0) \n",
        "\t\t# upsample image to original size \n",
        "\t\tfor _ in range(numDownSamples): \n",
        "\t\t\timg_color = cv2.pyrUp(img_color) \n",
        "\t\t#cv2.imshow(\"upscaling\",img_color) \n",
        "\t\t#cv2.waitKey(0) \n",
        "\n",
        "\t\t# -- STEPS 2 and 3 -- \n",
        "\t\t# convert to grayscale and apply median blur \n",
        "\t\timg_gray = cv2.cvtColor(img_rgb, cv2.COLOR_RGB2GRAY) \n",
        "\t\timg_blur = cv2.medianBlur(img_gray, 3) \n",
        "\t\t#cv2.imshow(\"grayscale+median blur\",img_color) \n",
        "\t\t#cv2.waitKey(0) \n",
        "\n",
        "\t\t# -- STEP 4 -- \n",
        "\t\t# detect and enhance edges \n",
        "\t\timg_edge = cv2.adaptiveThreshold(img_blur, 255, \n",
        "\t\t\t\t\t\t\t\t\t\tcv2.ADAPTIVE_THRESH_MEAN_C, \n",
        "\t\t\t\t\t\t\t\t\t\tcv2.THRESH_BINARY, 3, 2) \n",
        "\t\t#cv2.imshow(\"edge\",img_edge) \n",
        "\t\t#cv2.waitKey(0) \n",
        "\n",
        "\t\t# -- STEP 5 -- \n",
        "\t\t# convert back to color so that it can be bit-ANDed with color image \n",
        "\t\t(x,y,z) = img_color.shape \n",
        "\t\timg_edge = cv2.resize(img_edge,(y,x)) \n",
        "\t\timg_edge = cv2.cvtColor(img_edge, cv2.COLOR_GRAY2RGB) \n",
        "\t\tcv2.imwrite(\"edge.png\",img_edge) \n",
        "\t\t#cv2.imshow(\"step 5\", img_edge) \n",
        "\t\t#cv2.waitKey(0) \n",
        "\t\t#img_edge = cv2.resize(img_edge,(i for i in img_color.shape[:2])) \n",
        "\t\t#print img_edge.shape, img_color.shape \n",
        "\t\treturn cv2.bitwise_and(img_color, img_edge) \n",
        "\n",
        "tmp_canvas = Cartoonizer() \n",
        "\n",
        "file_name = \"/content/hj.png\" #File_name will come here \n",
        "res = tmp_canvas.render(file_name) \n",
        "\n",
        "cv2.imwrite(\"/content/Cartoon version.jpg\", res) \n",
        "# cv2_imshow(\"Cartoon version\") \n",
        "cv2.waitKey(0) \n",
        "cv2.destroyAllWindows() \n"
      ],
      "execution_count": 11,
      "outputs": []
    }
  ]
}